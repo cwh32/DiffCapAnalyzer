{
 "cells": [
  {
   "cell_type": "markdown",
   "metadata": {},
   "source": [
    "# Descriptor Function Examples\n",
    "\n",
    "### Introduction\n",
    "\n",
    "The purpose of this notebook is to demonstrate some examples of the peak descriptors function use. Each cell in this notebook will run from the sample data in this directory\n",
    "\n",
    "### Installation guidelines\n",
    "\n",
    "These functions require the following pip installs\n",
    "\n",
    "```\n",
    "pip install lmfit\n",
    "pip install numpy\n",
    "pip install pandas\n",
    "pip install peakutils\n",
    "pip install scipy\n",
    "```\n",
    "### Import statements"
   ]
  },
  {
   "cell_type": "code",
   "execution_count": 1,
   "metadata": {},
   "outputs": [],
   "source": [
    "import descriptors\n",
    "import chachifuncs as ccf"
   ]
  },
  {
   "cell_type": "markdown",
   "metadata": {},
   "source": [
    "### LMfit\n",
    "\n",
    "lmfit is an open-source fitting platform based on `scipy.optimize.leastsq`. It uses a Levenberg-Marquart algorithm with numerically-calculated derivatives from MINPACK's lmdif function. For our use case. We needed to fit a mixture of Pseudo-Voight distributions with a 4th degree polynomial background. The Pseudo-Voight distribution has the following form:\n",
    "\n",
    "$$f_v(x,A,\\mu,\\sigma,\\alpha)=\\frac{(1−\\alpha)A}{\\sigma_g \\sqrt{2 \\pi}}\\exp{[−{(x− \\mu)}_{2}/2 {\\sigma_g}^2]}+\\frac{\\alpha A}{\\pi}[\\frac{\\sigma}{{(x-\\mu)}^2 + \\sigma^2}]$$\n",
    "$$\\sigma_g = \\sigma/\\sqrt{2 \\ln{2}}$$\n",
    "\n",
    "In this model $A$ is the amplitude of the peak, $\\mu$ is the center of the distribution, $\\sigma$ and $\\alpha$ is the fraction of Lorenzian character.\n",
    "\n",
    "This function was used to develop and fit $f(x)$ to the following, not linear model:\n",
    "\n",
    "$$\\hat{f}(x) = \\sum_{i=0}^{3}\\hat{c}_i x^i + \\sum_{j=1}^{n}\\hat{f}_{vj}(x,\\hat{A}_j,\\hat{\\mu}_j,\\hat{\\sigma}_j,\\hat{\\alpha}_j)$$\n",
    "\n",
    "Where $n$ is the number of peaks determined by the peak fitting function `peak_finder`. The peak finding function uses `peakutils` package."
   ]
  },
  {
   "cell_type": "markdown",
   "metadata": {},
   "source": [
    "### Descriptors for ML\n",
    "The following descriptors were extracted from the each fit for use in the machine leaning component of this package.\n",
    "\n",
    "Polynomial coefficients:\n",
    "$$c_0, c_1, c_2, c_3$$\n",
    "\n",
    "For each peak $j$, the following parameters were used:\n",
    "\n",
    "$\\hat{\\mu}_j = $ Peak center\n",
    "\n",
    "$f(\\hat{\\mu}_j) = $ Peak height\n",
    "\n",
    "$\\hat{\\sigma}_j = $ Peak standard deviation"
   ]
  },
  {
   "cell_type": "markdown",
   "metadata": {},
   "source": [
    "### Fitting Error analysis\n",
    "\n",
    "Functional form of reduced chi squared:\n",
    "\n",
    "$$\\chi_{\\nu}^2 = \\sum_{i=0}^{n}\\frac{{(\\hat{f}(x_i)-f(x_i))}^2}{(n-N_{pars})}$$\n",
    "\n",
    "Functional form of Bayesian infromation criterion (BIC):\n",
    "$$BIC = n \\ln{(\\chi^2/n)} + \\ln{(n)} N_{pars}$$\n",
    "\n",
    "functional form of Akaike information criterion (AIC):\n",
    "\n",
    "$$AIC = n \\ln{(\\chi^2/n)} + 2 N_{pars}$$"
   ]
  },
  {
   "cell_type": "markdown",
   "metadata": {},
   "source": [
    "## Fitting Class Examples\n",
    "\n",
    "The examples below are codes used to develop the `fitting` class.\n",
    "\n",
    "### File imports with chachifuncs\n",
    "\n",
    "The following code was used to import a single cycle of data to this jupyter notebook"
   ]
  },
  {
   "cell_type": "code",
   "execution_count": 6,
   "metadata": {
    "scrolled": true
   },
   "outputs": [
    {
     "data": {
      "text/plain": [
       "Text(0,0.5,'dQ/dV')"
      ]
     },
     "execution_count": 6,
     "metadata": {},
     "output_type": "execute_result"
    },
    {
     "data": {
      "image/png": "[encoded data removed]",
      "text/plain": [
       "<matplotlib.figure.Figure at 0x20f130d8f28>"
      ]
     },
     "metadata": {},
     "output_type": "display_data"
    }
   ],
   "source": [
    "import chachifuncs as ccf\n",
    "import pandas as pd\n",
    "import matplotlib.pyplot as plt\n",
    "%matplotlib inline\n",
    "\n",
    "#reads a single excel spreadsheet into Jupyter\n",
    "#need to reset to cycle 10\n",
    "testdf = pd.read_excel('data/Clean_Separated_Cycles/CS2_33_12_23_10-Cycle2Clean.xlsx')\n",
    "\n",
    "#separates charge and discharge cycles using chachifuncs\n",
    "charge, discharge = ccf.sep_char_dis(testdf)\n",
    "\n",
    "#converts charge data to a pandas dataframe\n",
    "sigx_bot = pd.to_numeric(discharge['Voltage(V)']).as_matrix()\n",
    "sigy_bot = -pd.to_numeric(discharge['Smoothed_dQ/dV']).as_matrix()\n",
    "\n",
    "plt.rcParams.update({'font.size':20})\n",
    "#fig, ax = plt.figure(figsize=(10, 10), facecolor='w', edgecolor='k')\n",
    "plt.plot(sigx_bot, sigy_bot, 'r')\n",
    "plt.xlabel('Voltage (V)')\n",
    "plt.ylabel('dQ/dV')"
   ]
  },
  {
   "cell_type": "markdown",
   "metadata": {},
   "source": [
    "### Sub Component Examples\n",
    "\n",
    "#### PeakUtils Peak Finder\n",
    "\n",
    "This function uses the PeakUtils package to find all of the peaks in the dataset displayed above. An additional function `fitters.cd_dataframe` is used to flip the y data of the discharge curves and convert the pandas series used in `fitters.descriptor_func` to numpy arrays."
   ]
  },
  {
   "cell_type": "code",
   "execution_count": 2,
   "metadata": {
    "scrolled": false
   },
   "outputs": [
    {
     "data": {
      "text/plain": [
       "[<matplotlib.lines.Line2D at 0x2534a29d240>]"
      ]
     },
     "execution_count": 2,
     "metadata": {},
     "output_type": "execute_result"
    },
    {
     "data": {
      "image/png": "[encoded data removed]",
      "text/plain": [
       "<matplotlib.figure.Figure at 0x25345643c50>"
      ]
     },
     "metadata": {},
     "output_type": "display_data"
    }
   ],
   "source": [
    "import peakutils\n",
    "import scipy.signal\n",
    "\n",
    "#applies additional level of smoothing to prevent indexing of false peaks\n",
    "sigy_smooth = scipy.signal.savgol_filter(sigy_bot, 25, 3)\n",
    "\n",
    "#determines indexes of peaks in the dataset\n",
    "i = peakutils.indexes(sigy_smooth, thres=.3/max(sigy_bot), min_dist=9)\n",
    "\n",
    "#plots data\n",
    "plt.rcParams.update({'font.size':20})\n",
    "plt.plot(sigx_bot, sigy_bot, 'r')\n",
    "plt.xlabel('Voltage (V)')\n",
    "plt.ylabel('dQ/dV')\n",
    "plt.plot(sigx_bot[i], sigy_bot[i], 'o')"
   ]
  },
  {
   "cell_type": "markdown",
   "metadata": {},
   "source": [
    "#### lmfit model generation\n",
    "\n",
    "The following cell creates model objects for use in the final fitting of the dQ/dV curve. "
   ]
  },
  {
   "cell_type": "code",
   "execution_count": 3,
   "metadata": {},
   "outputs": [],
   "source": [
    "from lmfit import models\n",
    "\n",
    "#creates a polynomial fitting object\n",
    "mod = models.PolynomialModel(4)\n",
    "\n",
    "#sets polynomial parameters based on a\n",
    "#guess of a polynomial fit to the data with no peaks\n",
    "par = mod.guess(sigy_bot, x=sigx_bot)\n",
    "\n",
    "#iterates over all peak indices\n",
    "for index in i:\n",
    "    \n",
    "    #generates unique parameter strings based on index of peak\n",
    "    pref = str(int(index))\n",
    "    comb = 'a' + pref + '_'\n",
    "    \n",
    "    cent = 'center'\n",
    "    sig = 'sigma'\n",
    "    amp = 'amplitude'\n",
    "    fract = 'fraction'\n",
    "    \n",
    "    #generates a pseudo voigt fitting model\n",
    "    gaus_loop = models.PseudoVoigtModel(prefix=comb)\n",
    "    par.update(gaus_loop.make_params())\n",
    "    \n",
    "    #uses unique parameter strings to generate parameters with initial guesses\n",
    "    #in this model, the center of the peak is locked at the peak location determined from PeakUtils\n",
    "    par[comb+cent].set(sigx_bot[index], vary=False)\n",
    "    \n",
    "    #the other initial parameters were found by trial and error\n",
    "    par[comb+sig].set(0.01)\n",
    "    par[comb+amp].set(.05, min=0)\n",
    "    par[comb+fract].set(.5)\n",
    "    \n",
    "    #adds each pseudo voigt model to the polynomial model\n",
    "    mod = mod + gaus_loop"
   ]
  },
  {
   "cell_type": "markdown",
   "metadata": {},
   "source": [
    "#### Final fit generation\n",
    "\n",
    "The following code uses the `mod` and `par` objects found above to determine the final fit to the battery cycle. The execution of this model is performed below:"
   ]
  },
  {
   "cell_type": "code",
   "execution_count": 4,
   "metadata": {
    "scrolled": true
   },
   "outputs": [
    {
     "name": "stdout",
     "output_type": "stream",
     "text": [
      "[[Model]]\n",
      "    (Model(polynomial) + Model(pvoigt, prefix='a127_'))\n",
      "[[Fit Statistics]]\n",
      "    # function evals   = 399\n",
      "    # data points      = 190\n",
      "    # variables        = 8\n",
      "    chi-square         = 1.924\n",
      "    reduced chi-square = 0.011\n",
      "    Akaike info crit   = -856.601\n",
      "    Bayesian info crit = -830.625\n",
      "[[Variables]]\n",
      "    c0:              -1598.42698 +/- 107.7335 (6.74%) (init= 1535.683)\n",
      "    c1:               1955.76707 +/- 125.8694 (6.44%) (init=-1696.265)\n",
      "    c2:              -890.933528 +/- 54.74614 (6.14%) (init= 689.2991)\n",
      "    c3:               179.053362 +/- 10.51267 (5.87%) (init=-121.9478)\n",
      "    c4:              -13.3925248 +/- 0.752589 (5.62%) (init= 7.913243)\n",
      "    a127_fraction:    1.19144191 +/- 0.058960 (4.95%) (init= 0.5)\n",
      "    a127_sigma:       0.06452554 +/- 0.002313 (3.59%) (init= 0.01)\n",
      "    a127_center:      3.643138 (fixed)\n",
      "    a127_amplitude:   0.57677534 +/- 0.049520 (8.59%) (init= 0.05)\n",
      "    a127_fwhm:        0.12905108 +/- 0.004627 (3.59%)  == '2.0000000*a127_sigma'\n",
      "[[Correlations]] (unreported correlations are <  0.500)\n",
      "    C(c0, c1)                    = -1.000 \n",
      "    C(c1, c2)                    = -1.000 \n",
      "    C(c2, c3)                    = -0.999 \n",
      "    C(c3, c4)                    = -0.999 \n",
      "    C(c0, c2)                    =  0.998 \n",
      "    C(c1, c3)                    =  0.998 \n",
      "    C(c2, c4)                    =  0.998 \n",
      "    C(c0, c3)                    = -0.996 \n",
      "    C(c1, c4)                    = -0.995 \n",
      "    C(c0, c4)                    =  0.992 \n",
      "    C(a127_fraction, a127_amplitude)  =  0.887 \n",
      "    C(a127_sigma, a127_amplitude)  =  0.860 \n",
      "    C(a127_fraction, a127_sigma)  =  0.562 \n",
      "\n"
     ]
    },
    {
     "data": {
      "text/plain": [
       "<matplotlib.legend.Legend at 0x2534a8b3780>"
      ]
     },
     "execution_count": 4,
     "metadata": {},
     "output_type": "execute_result"
    },
    {
     "data": {
      "image/png": "[encoded data removed]",
      "text/plain": [
       "<matplotlib.figure.Figure at 0x25345643518>"
      ]
     },
     "metadata": {},
     "output_type": "display_data"
    }
   ],
   "source": [
    "#evaluates fit using the default scipy.leastsquare method\n",
    "model = mod.fit(sigy_bot, par, x=sigx_bot)\n",
    "\n",
    "#generates a fit report containing fit parameters as well as error values\n",
    "print(model.fit_report(min_correl=0.5))\n",
    "\n",
    "#plots data\n",
    "plt.plot(sigx_bot, sigy_bot, 'r')\n",
    "plt.plot(sigx_bot, model.init_fit, 'k--')\n",
    "plt.plot(sigx_bot, model.best_fit, 'b-')\n",
    "plt.xlabel('Voltage (V)')\n",
    "plt.ylabel('dQ/dV')\n",
    "plt.rcParams.update({'font.size':20})\n",
    "plt.legend(['Data', 'Initial Model', 'Fitted Model'], loc=2, fontsize=12)"
   ]
  },
  {
   "cell_type": "markdown",
   "metadata": {},
   "source": [
    "#### Dictionary Organization\n",
    "\n",
    "Once the model is finished, the generated model is processed into a dictionary of descriptors. Here is an example of code:"
   ]
  },
  {
   "cell_type": "code",
   "execution_count": 5,
   "metadata": {
    "scrolled": false
   },
   "outputs": [
    {
     "data": {
      "text/plain": [
       "{'coefficients': [-1598.4269803962648,\n",
       "  1955.767076728213,\n",
       "  -890.9335287031297,\n",
       "  179.0533623840819],\n",
       " 'errorParams': [-856.6011819365218, -830.6249893592379, 0.010571216301928164],\n",
       " 'peakHeight(dQdV)': [1.448182915541478],\n",
       " 'peakLocation(V)': [4.113237380981445],\n",
       " 'peakSIGMA': [0.0645255445500641]}"
      ]
     },
     "execution_count": 5,
     "metadata": {},
     "output_type": "execute_result"
    }
   ],
   "source": [
    "import descriptors\n",
    "import numpy as np\n",
    "coefficients = []\n",
    "\n",
    "for k in np.arange(4):\n",
    "#key calculation for coefficient collection\n",
    "    coef = 'c' + str(k)\n",
    "    #extracting coefficients from model object\n",
    "    coefficients.append(model.best_values[coef])\n",
    "\n",
    "#creates a dictionary of coefficients\n",
    "desc = {'coefficients': coefficients}\n",
    "if len(i) > 0:\n",
    "    #generates numpy array for peak calculation\n",
    "    sigx, sigy = descriptors.fitters.cd_dataframe(charge['Voltage(V)'], charge['Smoothed_dQ/dV'], 'c')\n",
    "    \n",
    "#determines peak location and height locations from raw data\n",
    "    desc.update({'peakLocation(V)': sigx[i].tolist(), 'peakHeight(dQdV)': sigy[i].tolist()})\n",
    "    #initiates loop to extract \n",
    "    sig = []\n",
    "    for index in i:\n",
    "        #determines appropriate string to call standard deviation object from model\n",
    "        center, sigma, amplitude, fraction, comb = descriptors.fitters.label_gen(index)\n",
    "        sig.append(model.best_values[sigma])\n",
    "\n",
    "    #updates dictionary with sigma key and object\n",
    "    desc.update({'peakSIGMA': sig})\n",
    "#adds keys for the error parameters of each fit\n",
    "desc.update({'errorParams': [model.aic, model.bic, model.redchi]})\n",
    "    \n",
    "desc"
   ]
  },
  {
   "cell_type": "markdown",
   "metadata": {},
   "source": [
    "## Process Class\n",
    "\n",
    "These functions execute the lmfit peak fitting function and properly organize the pandas dataframe of descriptors. This pandas dataframe has the following form."
   ]
  },
  {
   "cell_type": "code",
   "execution_count": 7,
   "metadata": {},
   "outputs": [
    {
     "data": {
      "text/html": [
       "<div>\n",
       "<style scoped>\n",
       "    .dataframe tbody tr th:only-of-type {\n",
       "        vertical-align: middle;\n",
       "    }\n",
       "\n",
       "    .dataframe tbody tr th {\n",
       "        vertical-align: top;\n",
       "    }\n",
       "\n",
       "    .dataframe thead th {\n",
       "        text-align: right;\n",
       "    }\n",
       "</style>\n",
       "<table border=\"1\" class=\"dataframe\">\n",
       "  <thead>\n",
       "    <tr style=\"text-align: right;\">\n",
       "      <th></th>\n",
       "      <th>names</th>\n",
       "      <th>ch_0</th>\n",
       "      <th>ch_1</th>\n",
       "      <th>...</th>\n",
       "      <th>ch_18</th>\n",
       "      <th>dc_0</th>\n",
       "      <th>dc_1</th>\n",
       "      <th>...</th>\n",
       "      <th>dc_18</th>\n",
       "    </tr>\n",
       "  </thead>\n",
       "  <tbody>\n",
       "  </tbody>\n",
       "</table>\n",
       "</div>"
      ],
      "text/plain": [
       "Empty DataFrame\n",
       "Columns: [names, ch_0, ch_1, ..., ch_18, dc_0, dc_1, ..., dc_18]\n",
       "Index: []"
      ]
     },
     "execution_count": 7,
     "metadata": {},
     "output_type": "execute_result"
    }
   ],
   "source": [
    "pd.DataFrame(columns=['names', 'ch_0', 'ch_1', '...', 'ch_18', 'dc_0', 'dc_1', '...', 'dc_18'])"
   ]
  },
  {
   "cell_type": "markdown",
   "metadata": {},
   "source": [
    "### Process class work flow\n",
    "\n",
    "This call graph was generated on a set of two batteries with 16 cycles total. It shows the structure of the `descriptors` package when `ML_generate` is called."
   ]
  },
  {
   "cell_type": "markdown",
   "metadata": {},
   "source": [
    "![Images/Function_flow.png](Images/Function_flow.png)"
   ]
  },
  {
   "cell_type": "markdown",
   "metadata": {},
   "source": [
    "This figure was generated using the package `pycallgraph`. It can be found at the following GitHub repository: https://github.com/gak/pycallgraph/#python-call-graph\n",
    "\n",
    "It is installable with the following lines in a python terminal:\n",
    "```\n",
    "pip install pycallgraph\n",
    "pip install graphviz\n",
    "```\n",
    "The code below demonstrates a successful run of the overall `ML_generator` function while generating a class work flow diagram for the package."
   ]
  },
  {
   "cell_type": "code",
   "execution_count": 1,
   "metadata": {},
   "outputs": [
    {
     "name": "stdout",
     "output_type": "stream",
     "text": [
      "Successfully extracted all battery names for c\n",
      "Fitting battery: 7_24_13_1C_Cycle c\n",
      "Cycle 51 in battery 7_24_13_1C_Cycle had fewer than 10 datapoints and was removed from the dataset.\n",
      "Fitting battery: CS2_33_10_04_10 c\n",
      "Fitting battery: CS2_33_12_23_10 c\n",
      "Successfully extracted all battery names for d\n",
      "Fitting battery: 7_24_13_1C_Cycle d\n",
      "Cycle 51 in battery 7_24_13_1C_Cycle had fewer than 10 datapoints and was removed from the dataset.\n",
      "Fitting battery: CS2_33_10_04_10 d\n",
      "Fitting battery: CS2_33_12_23_10 d\n"
     ]
    }
   ],
   "source": [
    "from pycallgraph import PyCallGraph\n",
    "from pycallgraph.output import GraphvizOutput\n",
    "import descriptors\n",
    "\n",
    "graphviz = GraphvizOutput(output_file='descriptors_class.png')\n",
    "\n",
    "with PyCallGraph(output=graphviz):\n",
    "    descriptors.ML_generate('data/Clean_Separated_Cycles')"
   ]
  },
  {
   "cell_type": "markdown",
   "metadata": {},
   "source": [
    "# Final Output from Above Call"
   ]
  },
  {
   "cell_type": "code",
   "execution_count": 2,
   "metadata": {},
   "outputs": [
    {
     "data": {
      "text/html": [
       "<div>\n",
       "<style scoped>\n",
       "    .dataframe tbody tr th:only-of-type {\n",
       "        vertical-align: middle;\n",
       "    }\n",
       "\n",
       "    .dataframe tbody tr th {\n",
       "        vertical-align: top;\n",
       "    }\n",
       "\n",
       "    .dataframe thead th {\n",
       "        text-align: right;\n",
       "    }\n",
       "</style>\n",
       "<table border=\"1\" class=\"dataframe\">\n",
       "  <thead>\n",
       "    <tr style=\"text-align: right;\">\n",
       "      <th></th>\n",
       "      <th>ch_0</th>\n",
       "      <th>ch_1</th>\n",
       "      <th>ch_2</th>\n",
       "      <th>ch_3</th>\n",
       "      <th>ch_4</th>\n",
       "      <th>ch_5</th>\n",
       "      <th>ch_6</th>\n",
       "      <th>ch_7</th>\n",
       "      <th>ch_8</th>\n",
       "      <th>ch_9</th>\n",
       "      <th>...</th>\n",
       "      <th>dc_3</th>\n",
       "      <th>dc_4</th>\n",
       "      <th>dc_5</th>\n",
       "      <th>dc_6</th>\n",
       "      <th>dc_7</th>\n",
       "      <th>dc_8</th>\n",
       "      <th>dc_9</th>\n",
       "      <th>dc_AIC</th>\n",
       "      <th>dc_BIC</th>\n",
       "      <th>dc_red_chi_squared</th>\n",
       "    </tr>\n",
       "  </thead>\n",
       "  <tbody>\n",
       "    <tr>\n",
       "      <th>0</th>\n",
       "      <td>9833.408526</td>\n",
       "      <td>-11632.447504</td>\n",
       "      <td>5128.173261</td>\n",
       "      <td>-998.438436</td>\n",
       "      <td>3.437595</td>\n",
       "      <td>13.739930</td>\n",
       "      <td>0.024292</td>\n",
       "      <td>0.000000</td>\n",
       "      <td>0.000000</td>\n",
       "      <td>0.000000</td>\n",
       "      <td>...</td>\n",
       "      <td>468.883904</td>\n",
       "      <td>3.169594</td>\n",
       "      <td>15.037665</td>\n",
       "      <td>0.022785</td>\n",
       "      <td>0.000000</td>\n",
       "      <td>0.000000</td>\n",
       "      <td>0.000000</td>\n",
       "      <td>87.571445</td>\n",
       "      <td>107.206223</td>\n",
       "      <td>2.534166</td>\n",
       "    </tr>\n",
       "    <tr>\n",
       "      <th>0</th>\n",
       "      <td>15489.181555</td>\n",
       "      <td>-15659.988501</td>\n",
       "      <td>5910.751774</td>\n",
       "      <td>-987.064593</td>\n",
       "      <td>3.802538</td>\n",
       "      <td>1.939364</td>\n",
       "      <td>0.016308</td>\n",
       "      <td>3.912368</td>\n",
       "      <td>4.090270</td>\n",
       "      <td>0.028114</td>\n",
       "      <td>...</td>\n",
       "      <td>146.184351</td>\n",
       "      <td>3.662901</td>\n",
       "      <td>4.000374</td>\n",
       "      <td>0.054731</td>\n",
       "      <td>3.595998</td>\n",
       "      <td>1.682794</td>\n",
       "      <td>0.010188</td>\n",
       "      <td>-833.146573</td>\n",
       "      <td>-795.279978</td>\n",
       "      <td>0.025910</td>\n",
       "    </tr>\n",
       "    <tr>\n",
       "      <th>1</th>\n",
       "      <td>19099.264665</td>\n",
       "      <td>-19531.865696</td>\n",
       "      <td>7463.508047</td>\n",
       "      <td>-1263.052905</td>\n",
       "      <td>3.802862</td>\n",
       "      <td>1.971420</td>\n",
       "      <td>0.014865</td>\n",
       "      <td>3.909938</td>\n",
       "      <td>4.521553</td>\n",
       "      <td>0.024031</td>\n",
       "      <td>...</td>\n",
       "      <td>-129526.121267</td>\n",
       "      <td>0.000000</td>\n",
       "      <td>0.000000</td>\n",
       "      <td>0.000000</td>\n",
       "      <td>0.000000</td>\n",
       "      <td>0.000000</td>\n",
       "      <td>0.000000</td>\n",
       "      <td>-216.678671</td>\n",
       "      <td>-209.842192</td>\n",
       "      <td>0.000487</td>\n",
       "    </tr>\n",
       "    <tr>\n",
       "      <th>0</th>\n",
       "      <td>110224.232910</td>\n",
       "      <td>-112814.922462</td>\n",
       "      <td>43225.477235</td>\n",
       "      <td>-7348.691072</td>\n",
       "      <td>3.932779</td>\n",
       "      <td>2.718488</td>\n",
       "      <td>0.026221</td>\n",
       "      <td>3.967121</td>\n",
       "      <td>2.716692</td>\n",
       "      <td>0.030367</td>\n",
       "      <td>...</td>\n",
       "      <td>11.665265</td>\n",
       "      <td>3.646216</td>\n",
       "      <td>3.207695</td>\n",
       "      <td>0.055360</td>\n",
       "      <td>0.000000</td>\n",
       "      <td>0.000000</td>\n",
       "      <td>0.000000</td>\n",
       "      <td>-704.716192</td>\n",
       "      <td>-678.698005</td>\n",
       "      <td>0.023979</td>\n",
       "    </tr>\n",
       "    <tr>\n",
       "      <th>1</th>\n",
       "      <td>136860.990486</td>\n",
       "      <td>-138517.265342</td>\n",
       "      <td>52514.967101</td>\n",
       "      <td>-8839.128748</td>\n",
       "      <td>3.934885</td>\n",
       "      <td>2.585210</td>\n",
       "      <td>0.032319</td>\n",
       "      <td>3.959669</td>\n",
       "      <td>2.719895</td>\n",
       "      <td>0.050882</td>\n",
       "      <td>...</td>\n",
       "      <td>9.453748</td>\n",
       "      <td>3.643138</td>\n",
       "      <td>3.039284</td>\n",
       "      <td>0.055324</td>\n",
       "      <td>0.000000</td>\n",
       "      <td>0.000000</td>\n",
       "      <td>0.000000</td>\n",
       "      <td>-684.012883</td>\n",
       "      <td>-658.036691</td>\n",
       "      <td>0.026219</td>\n",
       "    </tr>\n",
       "    <tr>\n",
       "      <th>2</th>\n",
       "      <td>123169.886012</td>\n",
       "      <td>-124600.875574</td>\n",
       "      <td>47214.296774</td>\n",
       "      <td>-7942.455040</td>\n",
       "      <td>3.929377</td>\n",
       "      <td>2.592342</td>\n",
       "      <td>0.025312</td>\n",
       "      <td>3.952866</td>\n",
       "      <td>2.591363</td>\n",
       "      <td>0.000338</td>\n",
       "      <td>...</td>\n",
       "      <td>48.763451</td>\n",
       "      <td>3.651075</td>\n",
       "      <td>3.173895</td>\n",
       "      <td>0.058016</td>\n",
       "      <td>0.000000</td>\n",
       "      <td>0.000000</td>\n",
       "      <td>0.000000</td>\n",
       "      <td>-771.540081</td>\n",
       "      <td>-745.521893</td>\n",
       "      <td>0.016900</td>\n",
       "    </tr>\n",
       "  </tbody>\n",
       "</table>\n",
       "<p>6 rows × 31 columns</p>\n",
       "</div>"
      ],
      "text/plain": [
       "            ch_0           ch_1          ch_2         ch_3      ch_4  \\\n",
       "0    9833.408526  -11632.447504   5128.173261  -998.438436  3.437595   \n",
       "0   15489.181555  -15659.988501   5910.751774  -987.064593  3.802538   \n",
       "1   19099.264665  -19531.865696   7463.508047 -1263.052905  3.802862   \n",
       "0  110224.232910 -112814.922462  43225.477235 -7348.691072  3.932779   \n",
       "1  136860.990486 -138517.265342  52514.967101 -8839.128748  3.934885   \n",
       "2  123169.886012 -124600.875574  47214.296774 -7942.455040  3.929377   \n",
       "\n",
       "        ch_5      ch_6      ch_7      ch_8      ch_9         ...          \\\n",
       "0  13.739930  0.024292  0.000000  0.000000  0.000000         ...           \n",
       "0   1.939364  0.016308  3.912368  4.090270  0.028114         ...           \n",
       "1   1.971420  0.014865  3.909938  4.521553  0.024031         ...           \n",
       "0   2.718488  0.026221  3.967121  2.716692  0.030367         ...           \n",
       "1   2.585210  0.032319  3.959669  2.719895  0.050882         ...           \n",
       "2   2.592342  0.025312  3.952866  2.591363  0.000338         ...           \n",
       "\n",
       "            dc_3      dc_4       dc_5      dc_6      dc_7      dc_8      dc_9  \\\n",
       "0     468.883904  3.169594  15.037665  0.022785  0.000000  0.000000  0.000000   \n",
       "0     146.184351  3.662901   4.000374  0.054731  3.595998  1.682794  0.010188   \n",
       "1 -129526.121267  0.000000   0.000000  0.000000  0.000000  0.000000  0.000000   \n",
       "0      11.665265  3.646216   3.207695  0.055360  0.000000  0.000000  0.000000   \n",
       "1       9.453748  3.643138   3.039284  0.055324  0.000000  0.000000  0.000000   \n",
       "2      48.763451  3.651075   3.173895  0.058016  0.000000  0.000000  0.000000   \n",
       "\n",
       "       dc_AIC      dc_BIC  dc_red_chi_squared  \n",
       "0   87.571445  107.206223            2.534166  \n",
       "0 -833.146573 -795.279978            0.025910  \n",
       "1 -216.678671 -209.842192            0.000487  \n",
       "0 -704.716192 -678.698005            0.023979  \n",
       "1 -684.012883 -658.036691            0.026219  \n",
       "2 -771.540081 -745.521893            0.016900  \n",
       "\n",
       "[6 rows x 31 columns]"
      ]
     },
     "execution_count": 2,
     "metadata": {},
     "output_type": "execute_result"
    }
   ],
   "source": [
    "import pandas as pd\n",
    "pd.read_excel('describe.xlsx')"
   ]
  },
  {
   "cell_type": "markdown",
   "metadata": {},
   "source": [
    "## Descriptor Key\n",
    "\n",
    "the 'ch_' prefix is for the charge descriptors and will be used in this table as 'pref':\n",
    "\n",
    "DataFrame Entry | Descriptors\n",
    "------|------\n",
    "pref_0 to pref_3 | polynomial coefficient in order of degree\n",
    "pref_4, 7, 10, ... | peak location (V)\n",
    "pref_5, 8, 11, ... | peak height (dQ/dV)\n",
    "pref_6, 9, 12, ... | peak $\\sigma$"
   ]
  },
  {
   "cell_type": "markdown",
   "metadata": {},
   "source": [
    "## Error Analysis\n",
    "\n",
    "This example is meant to demonstrate the accuracy of the peak fitting algorithm. The reduced Chi squared, the Bayesian information criterion (BIC) and the Akaike information criterion (AIC) are all minimized by a proper fit. These plots show that there is some noise for fit quality, but overall, the peak fitting quality is maintained across a particular battery. Comparisons between two batteries show that the mean error of the fit will vary from battery to battery. Reducing this variation will be a subject of future work on this package."
   ]
  },
  {
   "cell_type": "code",
   "execution_count": 5,
   "metadata": {},
   "outputs": [
    {
     "data": {
      "text/plain": [
       "<matplotlib.legend.Legend at 0x20f12ea54e0>"
      ]
     },
     "execution_count": 5,
     "metadata": {},
     "output_type": "execute_result"
    },
    {
     "data": {
      "image/png": "[encoded data removed]",
      "text/plain": [
       "<matplotlib.figure.Figure at 0x20f12870550>"
      ]
     },
     "metadata": {},
     "output_type": "display_data"
    }
   ],
   "source": [
    "import matplotlib.pyplot as plt\n",
    "import numpy as np\n",
    "import pandas as pd\n",
    "%matplotlib inline\n",
    "\n",
    "df = pd.read_excel('describe.xlsx')\n",
    "\n",
    "df1 = df[df['names'].str.contains(\"CS2_33_10_04_10\")]\n",
    "df2 = df[df['names'].str.contains(\"CS2_33_12_23_10\")]\n",
    "\n",
    "fig, axes = plt.subplots(2, 3, figsize=(19, 9))\n",
    "fig.tight_layout(pad=5)\n",
    "\n",
    "#plt.figure(figsize=(10, 10), facecolor='w', edgecolor='k')\n",
    "plt.rcParams.update({'font.size':12})\n",
    "#first and second peak location for the first battery\n",
    "axes[0, 0].plot(df1.index, df1['ch_AIC'], '*r', df1.index, df1['dc_AIC'], '*b')\n",
    "axes[0, 0].set_title('CS2_33_10_04_10')\n",
    "axes[0, 0].set_xlabel('index')\n",
    "axes[0, 0].set_ylabel('AIC')\n",
    "axes[0, 0].legend(['charge', 'discharge'])\n",
    "\n",
    "axes[0, 1].plot(df1.index, df1['ch_BIC'], '*r', df1.index, df1['dc_BIC'], '*b')\n",
    "axes[0, 1].set_title('CS2_33_10_04_10')\n",
    "axes[0, 1].set_xlabel('index')\n",
    "axes[0, 1].set_ylabel('BIC')\n",
    "axes[0, 1].legend(['charge', 'discharge'])\n",
    "\n",
    "axes[0, 2].plot(df1.index, df1['ch_red_chi_squared'], '*r', df1.index, df1['dc_red_chi_squared'], '*b')\n",
    "axes[0, 2].set_title('CS2_33_10_04_10')\n",
    "axes[0, 2].set_xlabel('index')\n",
    "axes[0, 2].set_ylabel(r'$\\chi^{2}_{\\nu}$')\n",
    "axes[0, 2].legend(['charge', 'discharge'])\n",
    "\n",
    "axes[1, 0].plot(df2.index, df2['ch_AIC'], '*r', df2.index, df2['dc_AIC'], '*b')\n",
    "axes[1, 0].set_title(\"CS2_33_12_23_10\")\n",
    "axes[1, 0].set_xlabel('index')\n",
    "axes[1, 0].set_ylabel('AIC')\n",
    "axes[1, 0].legend(['charge', 'discharge'])\n",
    "\n",
    "axes[1, 1].plot(df2.index, df2['ch_BIC'], '*r', df2.index, df2['dc_BIC'], '*b')\n",
    "axes[1, 1].set_title(\"CS2_33_12_23_10\")\n",
    "axes[1, 1].set_xlabel('index')\n",
    "axes[1, 1].set_ylabel('BIC')\n",
    "axes[1, 1].legend(['charge', 'discharge'])\n",
    "\n",
    "axes[1, 2].plot(df2.index, df2['ch_red_chi_squared'], '*r', df2.index, df2['dc_red_chi_squared'], '*b')\n",
    "axes[1, 2].set_title(\"CS2_33_12_23_10\")\n",
    "axes[1, 2].set_xlabel('index')\n",
    "axes[1, 2].set_ylabel(r'$\\chi^{2}_{\\nu}$')\n",
    "axes[1, 2].legend(['charge', 'discharge'])"
   ]
  },
  {
   "cell_type": "code",
   "execution_count": 2,
   "metadata": {},
   "outputs": [],
   "source": [
    "import pandas as pd"
   ]
  },
  {
   "cell_type": "code",
   "execution_count": 4,
   "metadata": {},
   "outputs": [],
   "source": [
    "mydf = pd.DataFrame({'A':[1,2,3], 'B':[40,50,60]})"
   ]
  },
  {
   "cell_type": "code",
   "execution_count": 6,
   "metadata": {},
   "outputs": [
    {
     "data": {
      "text/plain": [
       "50"
      ]
     },
     "execution_count": 6,
     "metadata": {},
     "output_type": "execute_result"
    }
   ],
   "source": [
    "mydf.loc[1, 'B']"
   ]
  },
  {
   "cell_type": "code",
   "execution_count": null,
   "metadata": {},
   "outputs": [],
   "source": []
  }
 ],
 "metadata": {
  "kernelspec": {
   "display_name": "Python 3",
   "language": "python",
   "name": "python3"
  },
  "language_info": {
   "codemirror_mode": {
    "name": "ipython",
    "version": 3
   },
   "file_extension": ".py",
   "mimetype": "text/x-python",
   "name": "python",
   "nbconvert_exporter": "python",
   "pygments_lexer": "ipython3",
   "version": "3.6.3"
  }
 },
 "nbformat": 4,
 "nbformat_minor": 2
}
